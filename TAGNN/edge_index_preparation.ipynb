{
 "cells": [
  {
   "cell_type": "code",
   "execution_count": 1,
   "id": "53ac499f",
   "metadata": {},
   "outputs": [],
   "source": [
    "import torch\n",
    "import numpy as np\n",
    "import gzip \n",
    "import pickle\n"
   ]
  },
  {
   "cell_type": "code",
   "execution_count": 2,
   "id": "be4482ab",
   "metadata": {},
   "outputs": [],
   "source": [
    "from utils import Data"
   ]
  },
  {
   "cell_type": "code",
   "execution_count": 3,
   "id": "d5619e70",
   "metadata": {},
   "outputs": [],
   "source": [
    "# filename_tagnn_input_data = '..\\YooChoose 1_64 Dataset Preparation\\ziob_yoochoose_1_64n.pcklz'\n",
    "filename_tagnn_input_data = '../YooChoose 1_64 Dataset Preparation/ziob_yoochoose_1_64n.pcklz'\n",
    "\n",
    "batch_size = 32\n",
    "number_of_nodes = -1\n",
    "\n",
    "with gzip.open(filename_tagnn_input_data, 'rb') as f:\n",
    "    train_data = pickle.load(f)\n",
    "    test_data = pickle.load(f)\n",
    "    pids = pickle.load(f)\n",
    "\n",
    "if number_of_nodes == -1:\n",
    "    number_of_nodes = len(pids)\n",
    "\n",
    "sessions = test_data[0]\n",
    "train_data = Data(train_data, shuffle=True)\n",
    "slices = train_data.generate_batch(batch_size)"
   ]
  },
  {
   "cell_type": "code",
   "execution_count": 4,
   "id": "e467ae7e",
   "metadata": {},
   "outputs": [],
   "source": [
    "seen_edges = set()\n",
    "c = 0\n",
    "p1_list = []\n",
    "p2_list = []\n",
    "for i, j in zip(slices, np.arange(len(slices))):\n",
    "    if c == 10:\n",
    "        break\n",
    "    alias_inputs, A, items, mask, targets = train_data.get_slice(i)\n",
    "\n",
    "    alias_inputs = torch.Tensor(alias_inputs).long()\n",
    "    items = torch.Tensor(items).long()\n",
    "    A = torch.Tensor(np.array(A)).float()\n",
    "    mask = torch.Tensor(mask).long()\n",
    "    sessions = torch.gather(items, 1, alias_inputs).squeeze(0)\n",
    "    for j, s in enumerate(sessions):\n",
    "        session = s[:mask[j].sum()]\n",
    "        for i in range(len(session) - 1):\n",
    "            p1 = session[i].item()  \n",
    "            p2 = session[i + 1].item()\n",
    "            if (p1, p2) not in seen_edges:\n",
    "                p1_list.append(p1)\n",
    "                p2_list.append(p2)\n",
    "                seen_edges.add((p1, p2))  \n",
    "\n",
    "    \n",
    "\n",
    "    \n",
    "p1_tensor = torch.tensor(p1_list)\n",
    "p2_tensor = torch.tensor(p2_list)\n",
    "    "
   ]
  },
  {
   "cell_type": "code",
   "execution_count": 5,
   "id": "db043556",
   "metadata": {},
   "outputs": [],
   "source": [
    "edge_index = torch.stack([p1_tensor, p2_tensor])"
   ]
  },
  {
   "cell_type": "code",
   "execution_count": 6,
   "id": "9852979d",
   "metadata": {},
   "outputs": [
    {
     "data": {
      "text/plain": [
       "tensor([[13761, 13761, 13758,  ...,  1452, 13792,  4395],\n",
       "        [13761, 13758, 13758,  ...,  1451, 10684,  5586]])"
      ]
     },
     "execution_count": 6,
     "metadata": {},
     "output_type": "execute_result"
    }
   ],
   "source": [
    "edge_index"
   ]
  },
  {
   "cell_type": "code",
   "execution_count": 7,
   "id": "b795ac94",
   "metadata": {},
   "outputs": [],
   "source": [
    "torch.save(edge_index, 'edge_index.pt')\n"
   ]
  }
 ],
 "metadata": {
  "kernelspec": {
   "display_name": "research2025",
   "language": "python",
   "name": "research2025"
  },
  "language_info": {
   "codemirror_mode": {
    "name": "ipython",
    "version": 3
   },
   "file_extension": ".py",
   "mimetype": "text/x-python",
   "name": "python",
   "nbconvert_exporter": "python",
   "pygments_lexer": "ipython3",
   "version": "3.12.8"
  }
 },
 "nbformat": 4,
 "nbformat_minor": 5
}
