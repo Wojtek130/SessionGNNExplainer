{
 "cells": [
  {
   "cell_type": "code",
   "execution_count": 1,
   "id": "832f645f",
   "metadata": {},
   "outputs": [],
   "source": [
    "import torch\n",
    "import os"
   ]
  },
  {
   "cell_type": "code",
   "execution_count": 2,
   "id": "16ad5921",
   "metadata": {},
   "outputs": [
    {
     "name": "stderr",
     "output_type": "stream",
     "text": [
      "/Ziob/wsniady/TAGNN_explainer/TAGNN/tagnn_yoochoose.py:35: FutureWarning: You are using `torch.load` with `weights_only=False` (the current default value), which uses the default pickle module implicitly. It is possible to construct malicious pickle data which will execute arbitrary code during unpickling (See https://github.com/pytorch/pytorch/blob/main/SECURITY.md#untrusted-models for more details). In a future release, the default value for `weights_only` will be flipped to `True`. This limits the functions that could be executed during unpickling. Arbitrary objects will no longer be allowed to be loaded via this mode unless they are explicitly allowlisted by the user via `torch.serialization.add_safe_globals`. We recommend you start setting `weights_only=True` for any use case where you don't have full control of the loaded file. Please open an issue on GitHub for any issues related to this experimental feature.\n",
      "  tagnn.load_state_dict(torch.load(filename_tagnn_model))\n"
     ]
    }
   ],
   "source": [
    "import importlib\n",
    "import TAGNNWrapper\n",
    "import SessionExplainer\n",
    "import tagnn_yoochoose\n",
    "\n",
    "importlib.reload(TAGNNWrapper)\n",
    "importlib.reload(SessionExplainer)\n",
    "importlib.reload(tagnn_yoochoose)\n",
    "\n",
    "from SessionExplainer import SessionExplainer\n",
    "from TAGNNWrapper import TAGNNWrapper\n",
    "from tagnn_yoochoose import tagnn"
   ]
  },
  {
   "cell_type": "code",
   "execution_count": 4,
   "id": "09f36f74",
   "metadata": {},
   "outputs": [
    {
     "name": "stderr",
     "output_type": "stream",
     "text": [
      "/tmp/ipykernel_579996/1667992603.py:2: FutureWarning: You are using `torch.load` with `weights_only=False` (the current default value), which uses the default pickle module implicitly. It is possible to construct malicious pickle data which will execute arbitrary code during unpickling (See https://github.com/pytorch/pytorch/blob/main/SECURITY.md#untrusted-models for more details). In a future release, the default value for `weights_only` will be flipped to `True`. This limits the functions that could be executed during unpickling. Arbitrary objects will no longer be allowed to be loaded via this mode unless they are explicitly allowlisted by the user via `torch.serialization.add_safe_globals`. We recommend you start setting `weights_only=True` for any use case where you don't have full control of the loaded file. Please open an issue on GitHub for any issues related to this experimental feature.\n",
      "  sessions_batch = torch.load(\"sessions_data_2/sessions_data_batch_1.pt\")\n"
     ]
    }
   ],
   "source": [
    "sessions = []\n",
    "sessions_batch = torch.load(\"sessions_data_2/sessions_data_batch_1.pt\")\n",
    "dim = sessions_batch[\"mask\"].shape[0]\n",
    "for i in range(dim):\n",
    "    session_data = {key: value[i].unsqueeze(0) for key, value in sessions_batch.items()}\n",
    "    session = torch.gather(session_data[\"items\"], 1, session_data[\"alias_inputs\"]).squeeze()[:session_data[\"mask\"].sum()].tolist()\n",
    "    if len(session) >= 5:\n",
    "        sessions.append(session)"
   ]
  },
  {
   "cell_type": "code",
   "execution_count": 6,
   "id": "d735b65c",
   "metadata": {},
   "outputs": [],
   "source": [
    "session = sessions[0]"
   ]
  },
  {
   "cell_type": "code",
   "execution_count": 7,
   "id": "d7d1ad71",
   "metadata": {},
   "outputs": [
    {
     "data": {
      "text/plain": [
       "[11278, 1173, 13488, 1168, 13585, 13410, 13410, 13290]"
      ]
     },
     "execution_count": 7,
     "metadata": {},
     "output_type": "execute_result"
    }
   ],
   "source": [
    "session"
   ]
  },
  {
   "cell_type": "code",
   "execution_count": 8,
   "id": "479cfe0b",
   "metadata": {},
   "outputs": [
    {
     "name": "stderr",
     "output_type": "stream",
     "text": [
      "/Ziob/wsniady/TAGNN_explainer/TAGNN/SessionExplainer.py:30: FutureWarning: You are using `torch.load` with `weights_only=False` (the current default value), which uses the default pickle module implicitly. It is possible to construct malicious pickle data which will execute arbitrary code during unpickling (See https://github.com/pytorch/pytorch/blob/main/SECURITY.md#untrusted-models for more details). In a future release, the default value for `weights_only` will be flipped to `True`. This limits the functions that could be executed during unpickling. Arbitrary objects will no longer be allowed to be loaded via this mode unless they are explicitly allowlisted by the user via `torch.serialization.add_safe_globals`. We recommend you start setting `weights_only=True` for any use case where you don't have full control of the loaded file. Please open an issue on GitHub for any issues related to this experimental feature.\n",
      "  self.edge_index = trans_to_cuda(torch.load(filename_edge_index))\n"
     ]
    }
   ],
   "source": [
    "epochs = 12000\n",
    "se = SessionExplainer(tagnn, session, epochs = epochs)"
   ]
  },
  {
   "cell_type": "code",
   "execution_count": null,
   "id": "1be133dc",
   "metadata": {},
   "outputs": [],
   "source": [
    "e = se.explain(session[-1], modify_global_embedding = False)\n",
    "values, indices = torch.sort(e.node_mask.squeeze(-1), descending=True)\n"
   ]
  },
  {
   "cell_type": "code",
   "execution_count": null,
   "id": "e59ddd36",
   "metadata": {},
   "outputs": [
    {
     "data": {
      "text/plain": [
       "tensor([13584,  1172, 13487,  1167, 12898, 13409, 13719, 13722,  1111, 13289],\n",
       "       device='cuda:0')"
      ]
     },
     "execution_count": 11,
     "metadata": {},
     "output_type": "execute_result"
    }
   ],
   "source": [
    "indices[:10]"
   ]
  }
 ],
 "metadata": {
  "kernelspec": {
   "display_name": "research2025",
   "language": "python",
   "name": "research2025"
  },
  "language_info": {
   "codemirror_mode": {
    "name": "ipython",
    "version": 3
   },
   "file_extension": ".py",
   "mimetype": "text/x-python",
   "name": "python",
   "nbconvert_exporter": "python",
   "pygments_lexer": "ipython3",
   "version": "3.12.8"
  }
 },
 "nbformat": 4,
 "nbformat_minor": 5
}
