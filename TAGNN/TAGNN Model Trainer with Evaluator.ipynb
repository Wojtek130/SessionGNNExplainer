{
 "cells": [
  {
   "cell_type": "code",
   "execution_count": null,
   "id": "444ef83c",
   "metadata": {},
   "outputs": [],
   "source": [
    "import numpy as np\n",
    "\n",
    "import argparse\n",
    "\n",
    "from collections import namedtuple\n",
    "\n",
    "import gzip\n",
    "import pickle\n",
    "import time\n",
    "\n",
    "from pathlib import Path\n",
    "\n",
    "import torch\n",
    "\n",
    "from model import SessionGraph, forward, trans_to_cuda, trans_to_cpu\n",
    "from utils import Data"
   ]
  },
  {
   "cell_type": "code",
   "execution_count": null,
   "id": "16381b1e",
   "metadata": {},
   "outputs": [],
   "source": [
    "filename_tagnn_input_data = './ziob_yoochoose_1_64n.pcklz'\n",
    "filename_tagnn_input_data = '..\\Diginetica Dataset Preparation\\ziob_diginetica_n.pcklz'\n",
    "filename_tagnn_input_data = '../Diginetica Dataset Preparation/ziob_diginetica_n.pcklz'\n",
    "filename_tagnn_model = 'tagnn_model2.pth'\n",
    "filename_tagnn_recommendations = 'recommendations.pcklz'\n",
    "embeddings_dimensionality = 100\n",
    "number_of_nodes = -1\n",
    "batch_size = 32\n",
    "training_epochs = 50"
   ]
  },
  {
   "cell_type": "code",
   "execution_count": null,
   "id": "d066c456",
   "metadata": {},
   "outputs": [],
   "source": [
    "print('CUDA: ', torch.cuda.is_available())"
   ]
  },
  {
   "cell_type": "markdown",
   "id": "fb044d7a",
   "metadata": {},
   "source": [
    "## TAGNN Model Trainer"
   ]
  },
  {
   "cell_type": "code",
   "execution_count": null,
   "id": "166aa8d7",
   "metadata": {},
   "outputs": [],
   "source": [
    "with gzip.open(filename_tagnn_input_data, 'rb') as f:\n",
    "    train_data = pickle.load(f)\n",
    "    test_data = pickle.load(f)\n",
    "    pids = pickle.load(f)\n",
    "\n",
    "if number_of_nodes == -1:\n",
    "    number_of_nodes = len(pids)"
   ]
  },
  {
   "cell_type": "code",
   "execution_count": null,
   "id": "e730df45",
   "metadata": {},
   "outputs": [],
   "source": [
    "train_data = Data(train_data, shuffle=True)\n",
    "# test_data = Data(test_data, shuffle=False)\n",
    "\n",
    "TAGNN_parameters = namedtuple('TAGNN_parameters', 'hiddenSize n_node batchSize nonhybrid step lr l2 lr_dc_step lr_dc')\n",
    "tagnn_params = TAGNN_parameters(embeddings_dimensionality, number_of_nodes, batch_size, True, 1, 0.001, 1e-5, 3, 0.1)\n",
    "\n",
    "model = trans_to_cuda(SessionGraph(tagnn_params)).float()"
   ]
  },
  {
   "cell_type": "code",
   "execution_count": null,
   "id": "2821da8a",
   "metadata": {},
   "outputs": [],
   "source": [
    "for epoch in range(training_epochs):\n",
    "    t0 = time.time()\n",
    "\n",
    "    model.train()\n",
    "\n",
    "    losses = []\n",
    "    slices = train_data.generate_batch(batch_size)\n",
    "    for i, j in zip(slices, np.arange(len(slices))):\n",
    "        model.optimizer.zero_grad()\n",
    "        targets, scores = forward(model, i, train_data)\n",
    "        print('targets: ', targets)\n",
    "        targets = trans_to_cuda(torch.Tensor(targets).long())\n",
    "        loss = model.loss_function(scores, targets - 1)\n",
    "        loss.backward()\n",
    "        model.optimizer.step()\n",
    "        losses.append(loss.item())\n",
    "\n",
    "    model.scheduler.step()\n",
    "\n",
    "    print(epoch, time.time() - t0, sum(losses) / len(slices))\n",
    "    torch.save(model.state_dict(), filename_tagnn_model[:-4] + ('.%03d' % epoch) + filename_tagnn_model[-4:])"
   ]
  },
  {
   "cell_type": "code",
   "execution_count": null,
   "id": "68caad20",
   "metadata": {},
   "outputs": [],
   "source": [
    "torch.save(model.state_dict(), filename_tagnn_model)"
   ]
  },
  {
   "cell_type": "markdown",
   "id": "c4464f66",
   "metadata": {},
   "source": [
    "## TAGNN Model Evaluator"
   ]
  },
  {
   "cell_type": "code",
   "execution_count": null,
   "id": "8a0b91b5",
   "metadata": {},
   "outputs": [],
   "source": [
    "def evaluate_target_positions(recommendations, targets):\n",
    "    positions = np.ones(len(targets)) * recommendations.shape[1]\n",
    "    for i in range(len(targets)):\n",
    "        indices_ = np.where(recommendations[i, :] == targets[i])[0]\n",
    "        if len(indices_) > 0:\n",
    "            positions[i] = indices_[0]\n",
    "    return positions"
   ]
  },
  {
   "cell_type": "code",
   "execution_count": null,
   "id": "fa08b8d6",
   "metadata": {},
   "outputs": [],
   "source": [
    "with gzip.open(filename_tagnn_input_data, 'rb') as f:\n",
    "    train_data = pickle.load(f)\n",
    "    test_data = pickle.load(f)\n",
    "    pids = pickle.load(f)\n",
    "\n",
    "if number_of_nodes == -1:\n",
    "    number_of_nodes = len(pids)\n",
    "\n",
    "sessions = test_data[0]\n",
    "\n",
    "# if pids is not None:\n",
    "#     id2pid = dict(zip(np.arange(len(pids)), pids))\n",
    "#     pid2id = {j: i for (i, j) in id2pid.items()}"
   ]
  },
  {
   "cell_type": "code",
   "execution_count": null,
   "id": "e4da541f",
   "metadata": {},
   "outputs": [],
   "source": [
    "filename_tagnn_model = 'tagnn_model.pth'\n",
    "TAGNN_parameters = namedtuple('TAGNN_parameters', 'hiddenSize n_node batchSize nonhybrid step lr l2 lr_dc_step lr_dc')\n",
    "tagnn_params = TAGNN_parameters(embeddings_dimensionality, number_of_nodes, batch_size, True, 1, 0.001, 1e-5, 3, 0.1)\n",
    "\n",
    "model = SessionGraph(tagnn_params)\n",
    "\n",
    "model.load_state_dict(torch.load(filename_tagnn_model))\n",
    "model.eval()\n",
    "model = trans_to_cuda(model).float()"
   ]
  },
  {
   "cell_type": "code",
   "execution_count": null,
   "id": "2a4b4d9d",
   "metadata": {},
   "outputs": [],
   "source": [
    "t0 = time.time()\n",
    "\n",
    "train_data = Data((sessions, np.zeros(len(sessions))), shuffle=False)\n",
    "\n",
    "results = []\n",
    "scores = []\n",
    "\n",
    "with torch.no_grad():\n",
    "    slices = train_data.generate_batch(batch_size)\n",
    "    for i in slices:\n",
    "        _, scores_ = forward(model, i, train_data)\n",
    "        scores_ = scores_.cpu().detach().numpy()\n",
    "        results_ = scores_.argsort(axis=1)\n",
    "        results_200 = results_[:, -200:][:, ::-1]\n",
    "        scores_200 = np.array([scores_[i_, results_200[i_, :]] for i_ in range(scores_.shape[0])])\n",
    "        # IMPORTANT: results_ must be increased by 1, because of the TAGNN representations of product\n",
    "        #            identifiers - the first product (id = 0) is considered artificial (used as an internal mark\n",
    "        #            in the TAGNN code), and scores_.shape[1] = len(pids) - 1, so scores_[:, 0] corresponds to\n",
    "        #            the first real product (id = 1), scores_[:, 1] to the second real product (id = 2), etc.\n",
    "        results_200 = results_200 + 1\n",
    "        results.append(results_200)\n",
    "        scores.append(scores_200)\n",
    "\n",
    "results = np.vstack(results)\n",
    "scores = np.vstack(scores)\n",
    "\n",
    "# if pids is not None:\n",
    "#     results = np.array([[id2pid[id_] if id_ in id2pid.keys() else -1 for id_ in session] for session in results])\n",
    "\n",
    "# with gzip.open(filename_tagnn_recommendations, 'wb') as f:\n",
    "#     pickle.dump(results, f, protocol=pickle.HIGHEST_PROTOCOL)\n",
    "#     pickle.dump(scores, f, protocol=pickle.HIGHEST_PROTOCOL)\n",
    "\n",
    "print(time.time() - t0, results.shape, scores.shape)"
   ]
  },
  {
   "cell_type": "code",
   "execution_count": null,
   "id": "96ea4611",
   "metadata": {},
   "outputs": [],
   "source": [
    "positions = evaluate_target_positions(results, test_data[1])\n",
    "print(positions.min(), positions.mean(), positions.max())\n",
    "print((positions < 20).sum() / len(positions))"
   ]
  },
  {
   "cell_type": "code",
   "execution_count": null,
   "id": "54a7acb8",
   "metadata": {},
   "outputs": [],
   "source": []
  }
 ],
 "metadata": {
  "kernelspec": {
   "display_name": "research2025",
   "language": "python",
   "name": "research2025"
  },
  "language_info": {
   "codemirror_mode": {
    "name": "ipython",
    "version": 3
   },
   "file_extension": ".py",
   "mimetype": "text/x-python",
   "name": "python",
   "nbconvert_exporter": "python",
   "pygments_lexer": "ipython3",
   "version": "3.12.8"
  }
 },
 "nbformat": 4,
 "nbformat_minor": 5
}
